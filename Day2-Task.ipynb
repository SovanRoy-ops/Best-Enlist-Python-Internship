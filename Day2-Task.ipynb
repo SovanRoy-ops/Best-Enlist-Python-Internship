{
 "metadata": {
  "language_info": {
   "codemirror_mode": {
    "name": "ipython",
    "version": 3
   },
   "file_extension": ".py",
   "mimetype": "text/x-python",
   "name": "python",
   "nbconvert_exporter": "python",
   "pygments_lexer": "ipython3",
   "version": "3.9.0-final"
  },
  "orig_nbformat": 2,
  "kernelspec": {
   "name": "python3",
   "display_name": "Python 3.9.0 64-bit",
   "metadata": {
    "interpreter": {
     "hash": "e02040af0dc6690db95779485fd856fa71918215200e875e657ce720434743e3"
    }
   }
  }
 },
 "nbformat": 4,
 "nbformat_minor": 2,
 "cells": [
  {
   "source": [
    "# EXCERCISE\n"
   ],
   "cell_type": "markdown",
   "metadata": {}
  },
  {
   "source": [
    "### 1) Create three variables (a,b,c) to same value of any integer & do the            following\n",
    "  *\tDivide a by 10\n",
    "  *\tMultiply b by 50\n",
    "  *\tAdd c value by 60\n"
   ],
   "cell_type": "markdown",
   "metadata": {}
  },
  {
   "cell_type": "code",
   "execution_count": 6,
   "metadata": {},
   "outputs": [
    {
     "output_type": "stream",
     "name": "stdout",
     "text": [
      "a=10, b=5000, c=160\n"
     ]
    }
   ],
   "source": [
    "a=b=c=100\n",
    "a//=10\n",
    "b*=50\n",
    "c+=60\n",
    "print(f\"a={a}, b={b}, c={c}\")"
   ]
  },
  {
   "source": [
    "### 2) Create a String variable of 5 characters  and replace the 3rd character         with G"
   ],
   "cell_type": "markdown",
   "metadata": {}
  },
  {
   "cell_type": "code",
   "execution_count": 10,
   "metadata": {},
   "outputs": [
    {
     "output_type": "stream",
     "name": "stdout",
     "text": [
      "SoGan\n"
     ]
    }
   ],
   "source": [
    "s1=\"Sovan\"\n",
    "s2=s1[:2]+'G'+s1[3:]\n",
    "print(s2)"
   ]
  },
  {
   "source": [
    "### 3) Create two values (a,b) of int,float data type & convert the vise versa, Hint : convert a from int to float datatype & b from float to int datatype "
   ],
   "cell_type": "markdown",
   "metadata": {}
  },
  {
   "cell_type": "code",
   "execution_count": 19,
   "metadata": {},
   "outputs": [
    {
     "output_type": "stream",
     "name": "stdout",
     "text": [
      "Before conversion, a=2 and b=3.3\n\nAfter conversion, a=2.0 and b=3\n"
     ]
    }
   ],
   "source": [
    "a,b= 2,3.3\n",
    "print(f\"Before conversion, a={a} and b={b}\\n\")\n",
    "a=float(a)\n",
    "b=int(b)\n",
    "print(f\"After conversion, a={a} and b={b}\")"
   ]
  }
 ]
}