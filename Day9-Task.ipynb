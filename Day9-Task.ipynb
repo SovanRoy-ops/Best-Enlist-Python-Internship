{
 "metadata": {
  "language_info": {
   "codemirror_mode": {
    "name": "ipython",
    "version": 3
   },
   "file_extension": ".py",
   "mimetype": "text/x-python",
   "name": "python",
   "nbconvert_exporter": "python",
   "pygments_lexer": "ipython3",
   "version": "3.9.0-final"
  },
  "orig_nbformat": 2,
  "kernelspec": {
   "name": "python3",
   "display_name": "Python 3.9.0 64-bit",
   "metadata": {
    "interpreter": {
     "hash": "e02040af0dc6690db95779485fd856fa71918215200e875e657ce720434743e3"
    }
   }
  }
 },
 "nbformat": 4,
 "nbformat_minor": 2,
 "cells": [
  {
   "source": [
    "# EXCERCISE"
   ],
   "cell_type": "markdown",
   "metadata": {}
  },
  {
   "source": [
    "###\t1. Create a lambda function that multiplies argument x with argument y"
   ],
   "cell_type": "markdown",
   "metadata": {}
  },
  {
   "cell_type": "code",
   "execution_count": 2,
   "metadata": {},
   "outputs": [
    {
     "output_type": "stream",
     "name": "stdout",
     "text": [
      "30\n"
     ]
    }
   ],
   "source": [
    "res = lambda x,y: x*y\n",
    "print(res(5,6)) "
   ]
  },
  {
   "source": [
    "### 2. Write a Python program to create Fibonacci series to n using Lambda"
   ],
   "cell_type": "markdown",
   "metadata": {}
  },
  {
   "cell_type": "code",
   "execution_count": 3,
   "metadata": {},
   "outputs": [
    {
     "output_type": "stream",
     "name": "stdout",
     "text": [
      "[0, 1, 1, 2, 3, 5, 8, 13, 21, 34]\n"
     ]
    }
   ],
   "source": [
    "def fibonacci(count): \n",
    "\tfib_list = [0, 1] \n",
    "\n",
    "\tany(map(lambda _: fib_list.append(sum(fib_list[-2:])), \n",
    "\t\t\t\t\t\t\t\t\t\trange(2, count))) \n",
    "\n",
    "\treturn fib_list[:count] \n",
    "\n",
    "print(fibonacci(10)) \n"
   ]
  },
  {
   "source": [
    "### 3. Write a Python program that multiply each number of given list with a given number "
   ],
   "cell_type": "markdown",
   "metadata": {}
  },
  {
   "cell_type": "code",
   "execution_count": 5,
   "metadata": {},
   "outputs": [
    {
     "output_type": "stream",
     "name": "stdout",
     "text": [
      "[50, 100, 150, 200, 250]\n"
     ]
    }
   ],
   "source": [
    "li=[10,20,30,40,50]\n",
    "print(list(map(lambda x:x*5,li)))"
   ]
  },
  {
   "source": [
    "### 4. Write a Python program to find numbers divisible by 9 from a list of numbers "
   ],
   "cell_type": "markdown",
   "metadata": {}
  },
  {
   "cell_type": "code",
   "execution_count": 6,
   "metadata": {},
   "outputs": [
    {
     "output_type": "stream",
     "name": "stdout",
     "text": [
      "[45, 81, 9]\n"
     ]
    }
   ],
   "source": [
    "my_list = [20,45,215,81,9]\n",
    "print(list(filter(lambda x: x%9==0,my_list)))"
   ]
  },
  {
   "source": [
    "### 5. Write a Python program to count the even numbers in a given list of integers "
   ],
   "cell_type": "markdown",
   "metadata": {}
  },
  {
   "cell_type": "code",
   "execution_count": 12,
   "metadata": {},
   "outputs": [
    {
     "output_type": "stream",
     "name": "stdout",
     "text": [
      "4\n"
     ]
    }
   ],
   "source": [
    "new_list = [1,2,3,4,5,6,10]\n",
    "print(len(list(filter(lambda x:x%2==0,new_list))))"
   ]
  }
 ]
}