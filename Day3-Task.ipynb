{
 "metadata": {
  "language_info": {
   "codemirror_mode": {
    "name": "ipython",
    "version": 3
   },
   "file_extension": ".py",
   "mimetype": "text/x-python",
   "name": "python",
   "nbconvert_exporter": "python",
   "pygments_lexer": "ipython3",
   "version": "3.7.6-final"
  },
  "orig_nbformat": 2,
  "kernelspec": {
   "name": "python3",
   "display_name": "Python 3"
  }
 },
 "nbformat": 4,
 "nbformat_minor": 2,
 "cells": [
  {
   "source": [
    "# EXCERCISE"
   ],
   "cell_type": "markdown",
   "metadata": {}
  },
  {
   "source": [
    "### 1)\tWrite a Python script to merge two Python dictionaries"
   ],
   "cell_type": "markdown",
   "metadata": {}
  },
  {
   "cell_type": "code",
   "execution_count": 13,
   "metadata": {},
   "outputs": [
    {
     "output_type": "stream",
     "name": "stdout",
     "text": [
      "{'k1': 'a', 'k2': 'b', 'k3': 'c', 'k4': 'd', 'k5': 'e'}\n"
     ]
    }
   ],
   "source": [
    "d1 = {'k1':'a','k2':'b','k3':'c'}\n",
    "d2 = {'k4':'d','k5':'e'}\n",
    "d1.update(d2)\n",
    "print(d1)\n"
   ]
  },
  {
   "source": [
    "### 2)\tWrite a Python program to remove a key from a dictionary"
   ],
   "cell_type": "markdown",
   "metadata": {}
  },
  {
   "cell_type": "code",
   "execution_count": 16,
   "metadata": {},
   "outputs": [
    {
     "output_type": "stream",
     "name": "stdout",
     "text": [
      "{'k1': 'a', 'k3': 'c'}\n"
     ]
    }
   ],
   "source": [
    "d1 = {'k1':'a','k2':'b','k3':'c'}\n",
    "d1.pop('k2')\n",
    "print(d1)"
   ]
  },
  {
   "source": [
    "### 3)\tWrite a Python program to map two lists into a dictionary"
   ],
   "cell_type": "markdown",
   "metadata": {}
  },
  {
   "cell_type": "code",
   "execution_count": 26,
   "metadata": {},
   "outputs": [
    {
     "output_type": "stream",
     "name": "stdout",
     "text": [
      "{'Mon': 1, 'Tues': 2, 'Wed': 3}\n"
     ]
    }
   ],
   "source": [
    "l1 = [\"Mon\",\"Tues\",\"Wed\"]\n",
    "l2 = [1,2,3]\n",
    "print(dict(zip(l1,l2)))"
   ]
  },
  {
   "source": [
    "### 4)\tWrite a Python program to find the length of a set"
   ],
   "cell_type": "markdown",
   "metadata": {}
  },
  {
   "cell_type": "code",
   "execution_count": 32,
   "metadata": {},
   "outputs": [
    {
     "output_type": "stream",
     "name": "stdout",
     "text": [
      "3\n"
     ]
    }
   ],
   "source": [
    "s = {'a','b','c'}\n",
    "print(len(s))\n"
   ]
  },
  {
   "source": [
    "### 5)\tWrite a Python program to remove the intersection of a 2nd set from the 1st set"
   ],
   "cell_type": "markdown",
   "metadata": {}
  },
  {
   "cell_type": "code",
   "execution_count": 33,
   "metadata": {},
   "outputs": [
    {
     "output_type": "stream",
     "name": "stdout",
     "text": [
      "{1, 2, 3}\n"
     ]
    }
   ],
   "source": [
    "s1 = {1,2,3,4,5}\n",
    "s2 = {4,5,6,7,8}\n",
    "print(s1-s2)"
   ]
  }
 ]
}