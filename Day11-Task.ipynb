{
 "metadata": {
  "language_info": {
   "codemirror_mode": {
    "name": "ipython",
    "version": 3
   },
   "file_extension": ".py",
   "mimetype": "text/x-python",
   "name": "python",
   "nbconvert_exporter": "python",
   "pygments_lexer": "ipython3",
   "version": "3.9.0-final"
  },
  "orig_nbformat": 2,
  "kernelspec": {
   "name": "python3",
   "display_name": "Python 3.9.0 64-bit",
   "metadata": {
    "interpreter": {
     "hash": "e02040af0dc6690db95779485fd856fa71918215200e875e657ce720434743e3"
    }
   }
  }
 },
 "nbformat": 4,
 "nbformat_minor": 2,
 "cells": [
  {
   "source": [
    "# EXCERCISE"
   ],
   "cell_type": "markdown",
   "metadata": {}
  },
  {
   "source": [
    "### 1. Write a program using zip() function and list() function, create a merged list of tuples from the two lists given."
   ],
   "cell_type": "markdown",
   "metadata": {}
  },
  {
   "cell_type": "code",
   "execution_count": 2,
   "metadata": {},
   "outputs": [
    {
     "output_type": "stream",
     "name": "stdout",
     "text": [
      "[('Rogers', 25), ('Matt', 45), ('Steve', 3), ('Tom', 60), ('John', 54)]\n"
     ]
    }
   ],
   "source": [
    "names = [\"Rogers\",\"Matt\",\"Steve\",\"Tom\",\"John\"]\n",
    "roll =  [25,45,3,60,54]\n",
    "\n",
    "res = list(zip(names,roll))\n",
    "\n",
    "print(res)"
   ]
  },
  {
   "source": [
    "### 2. First create a range from 1 to 8. Then using zip, merge the given list and the range together to create a new list of tuples."
   ],
   "cell_type": "markdown",
   "metadata": {}
  },
  {
   "cell_type": "code",
   "execution_count": 3,
   "metadata": {},
   "outputs": [
    {
     "output_type": "stream",
     "name": "stdout",
     "text": [
      "[('Jan', 1), ('Feb', 2), ('Mar', 3), ('Apr', 4), ('May', 5), ('Jun', 6), ('Jul', 7), ('Aug', 8)]\n"
     ]
    }
   ],
   "source": [
    "days = [\"Jan\",\"Feb\",\"Mar\",\"Apr\",\"May\",\"Jun\",\"Jul\",\"Aug\"]\n",
    "\n",
    "final_list = list(zip(days,range(1,9)))\n",
    "\n",
    "print(final_list)"
   ]
  },
  {
   "source": [
    "### 3. Using sorted() function, sort the list in ascending order."
   ],
   "cell_type": "markdown",
   "metadata": {}
  },
  {
   "cell_type": "code",
   "execution_count": null,
   "metadata": {},
   "outputs": [],
   "source": [
    "alphabets = (\"b\", \"g\", \"a\", \"d\", \"f\", \"c\", \"h\", \"e\")\n",
    "\n",
    "sorted_result = sorted(alphabets)\n",
    "\n",
    "print(sorted_result)"
   ]
  },
  {
   "source": [
    "### 4. Write a program using filter function, filter the even numbers so that only odd numbers are passed to the new list."
   ],
   "cell_type": "markdown",
   "metadata": {}
  },
  {
   "cell_type": "code",
   "execution_count": 6,
   "metadata": {},
   "outputs": [
    {
     "output_type": "stream",
     "name": "stdout",
     "text": [
      "[1, 3, 5, 7, 9]\n"
     ]
    }
   ],
   "source": [
    "li = [1,2,3,4,5,6,7,8,9,10]\n",
    "\n",
    "print(list(filter(lambda x: x%2!=0,li)))"
   ]
  }
 ]
}