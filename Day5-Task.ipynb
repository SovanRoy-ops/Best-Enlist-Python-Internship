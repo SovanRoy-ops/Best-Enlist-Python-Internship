{
 "metadata": {
  "language_info": {
   "codemirror_mode": {
    "name": "ipython",
    "version": 3
   },
   "file_extension": ".py",
   "mimetype": "text/x-python",
   "name": "python",
   "nbconvert_exporter": "python",
   "pygments_lexer": "ipython3",
   "version": "3.9.0-final"
  },
  "orig_nbformat": 2,
  "kernelspec": {
   "name": "python3",
   "display_name": "Python 3.9.0 64-bit",
   "metadata": {
    "interpreter": {
     "hash": "e02040af0dc6690db95779485fd856fa71918215200e875e657ce720434743e3"
    }
   }
  }
 },
 "nbformat": 4,
 "nbformat_minor": 2,
 "cells": [
  {
   "source": [
    "# EXCERCISE"
   ],
   "cell_type": "markdown",
   "metadata": {}
  },
  {
   "source": [
    "### Create a function getting two integer inputs from user.& print the following:\n",
    "* Addition of two numbers is +value\n",
    "* Subtraction of two numbers is +value\n",
    "* Division of two numbers is +value\n",
    "* Multiplication of two numbers is +value\n"
   ],
   "cell_type": "markdown",
   "metadata": {}
  },
  {
   "cell_type": "code",
   "execution_count": 3,
   "metadata": {},
   "outputs": [
    {
     "output_type": "stream",
     "name": "stdout",
     "text": [
      "Addition of the numbers: 15\nSubtraction of the numbers: 5\nMultiplication of the numbers: 50\nDivision of the numbers: 2\n"
     ]
    }
   ],
   "source": [
    "a,b = 10,5\n",
    "def add(x,y):\n",
    "    return x+y\n",
    "def sub(x,y):\n",
    "    return x-y\n",
    "def mul(x,y):\n",
    "    return x*y\n",
    "def div(x,y):\n",
    "    return x//y\n",
    "\n",
    "print(f\"Addition of the numbers: {add(a,b)}\")\n",
    "print(f\"Subtraction of the numbers: {sub(a,b)}\")\n",
    "print(f\"Multiplication of the numbers: {mul(a,b)}\")\n",
    "print(f\"Division of the numbers: {div(a,b)}\")\n"
   ]
  },
  {
   "source": [
    "###  2.Create a function covid( )& it should accept patient name, and body temperature, by default the body temperature should be 98 degree"
   ],
   "cell_type": "markdown",
   "metadata": {}
  },
  {
   "cell_type": "code",
   "execution_count": 6,
   "metadata": {},
   "outputs": [
    {
     "output_type": "stream",
     "name": "stdout",
     "text": [
      "The name of the patient is: Mads\nThe current body temperature of the patient is: 60 degrees\n"
     ]
    }
   ],
   "source": [
    "patient_name = input(\"Enter patient name: \")\n",
    "patient_body_temp = int(input(\"Enter patient body temperature: \"))\n",
    "\n",
    "def covid(name,temp = 98):\n",
    "    print(f\"The name of the patient is: {name}\")\n",
    "    print(f\"The current body temperature of the patient is: {temp} degrees\")\n",
    "\n",
    "covid(patient_name,patient_body_temp)"
   ]
  }
 ]
}