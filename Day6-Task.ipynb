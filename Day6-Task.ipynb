{
 "metadata": {
  "language_info": {
   "codemirror_mode": {
    "name": "ipython",
    "version": 3
   },
   "file_extension": ".py",
   "mimetype": "text/x-python",
   "name": "python",
   "nbconvert_exporter": "python",
   "pygments_lexer": "ipython3",
   "version": "3.9.0-final"
  },
  "orig_nbformat": 2,
  "kernelspec": {
   "name": "python3",
   "display_name": "Python 3.9.0 64-bit",
   "metadata": {
    "interpreter": {
     "hash": "e02040af0dc6690db95779485fd856fa71918215200e875e657ce720434743e3"
    }
   }
  }
 },
 "nbformat": 4,
 "nbformat_minor": 2,
 "cells": [
  {
   "source": [
    "# EXCERCISE"
   ],
   "cell_type": "markdown",
   "metadata": {}
  },
  {
   "source": [
    "### 1. Write a program to loop through a list of numbers and add +2 to every value to elements in list"
   ],
   "cell_type": "markdown",
   "metadata": {}
  },
  {
   "cell_type": "code",
   "execution_count": 16,
   "metadata": {},
   "outputs": [
    {
     "output_type": "stream",
     "name": "stdout",
     "text": [
      "Original list : [1, 2, 3, 4, 5]\nResultant list : [3, 4, 5, 6, 7]\n"
     ]
    }
   ],
   "source": [
    "my_list = [1,2,3,4,5]\n",
    "res_list = []\n",
    "for i in range(0,len(my_list)):\n",
    "    res_list.append(my_list[i] + 2)\n",
    "print(f\"Original list : {my_list}\")\n",
    "print(f\"Resultant list : {res_list}\")"
   ]
  },
  {
   "source": [
    "### 2. Write a program to get the below pattern\n",
    "54321 <br>\n",
    "4321 <br>\n",
    "321 <br>\n",
    "21 <br>\n",
    "1<br>\n"
   ],
   "cell_type": "markdown",
   "metadata": {}
  },
  {
   "cell_type": "code",
   "execution_count": 10,
   "metadata": {},
   "outputs": [
    {
     "output_type": "stream",
     "name": "stdout",
     "text": [
      "54321\n4321\n321\n21\n1\n"
     ]
    }
   ],
   "source": [
    "for row in range(5,0,-1):\n",
    "    for col in range(row,0,-1):\n",
    "        print(col,end = \"\")\n",
    "    \n",
    "    print()"
   ]
  },
  {
   "source": [
    "### 3. Python Program to Print the Fibonacci sequence"
   ],
   "cell_type": "markdown",
   "metadata": {}
  },
  {
   "cell_type": "code",
   "execution_count": 30,
   "metadata": {},
   "outputs": [
    {
     "output_type": "stream",
     "name": "stdout",
     "text": [
      "0 1 1 2 3 5 8 13 21 34 "
     ]
    }
   ],
   "source": [
    "t1,t2 = 0,1\n",
    "n = int(input(\"Enter the value of n: \"))\n",
    "print(t1,t2,end = \" \")\n",
    "    \n",
    "for i in range(2,n):\n",
    "    t3 = t1+t2\n",
    "    print(t3, end=\" \")\n",
    "    t1=t2\n",
    "    t2=t3\n",
    "\n",
    "# n=10"
   ]
  },
  {
   "source": [
    "### 4. Explain Armstrong number and write a code with a function"
   ],
   "cell_type": "markdown",
   "metadata": {}
  },
  {
   "cell_type": "code",
   "execution_count": 35,
   "metadata": {},
   "outputs": [
    {
     "output_type": "stream",
     "name": "stdout",
     "text": [
      "True\n"
     ]
    }
   ],
   "source": [
    "# Armstrong number: 1^3+5^3+3^3=153\n",
    "\n",
    "num = 153 \n",
    "def armstrongCheck(n):\n",
    "    sum = 0  \n",
    "    temp = num  \n",
    "    while(temp > 0):  \n",
    "        digit = temp % 10  \n",
    "        sum += digit ** 3  \n",
    "        temp //= 10  \n",
    "    \n",
    "    return (num == sum)  \n",
    "\n",
    "\n",
    "print(armstrongCheck(num))   "
   ]
  },
  {
   "source": [
    "### 5. Write a program to print the multiplication table of 9"
   ],
   "cell_type": "markdown",
   "metadata": {}
  },
  {
   "cell_type": "code",
   "execution_count": 38,
   "metadata": {},
   "outputs": [
    {
     "output_type": "stream",
     "name": "stdout",
     "text": [
      "9 X 0 = 0\n9 X 1 = 9\n9 X 2 = 18\n9 X 3 = 27\n9 X 4 = 36\n9 X 5 = 45\n9 X 6 = 54\n9 X 7 = 63\n9 X 8 = 72\n9 X 9 = 81\n9 X 10 = 90\n"
     ]
    }
   ],
   "source": [
    "for i in range(11):\n",
    "    print(f\"9 X {i} = {9*i}\")"
   ]
  },
  {
   "source": [
    "### 6. Check if a program is negative or positive"
   ],
   "cell_type": "markdown",
   "metadata": {}
  },
  {
   "cell_type": "code",
   "execution_count": 40,
   "metadata": {},
   "outputs": [
    {
     "output_type": "stream",
     "name": "stdout",
     "text": [
      "Negetive\n"
     ]
    }
   ],
   "source": [
    "n = int(input(\"Enter number\"))  # n=-21 \n",
    "if(n<0):\n",
    "    print(\"Negetive\")\n",
    "else:\n",
    "    print(\"positive\")"
   ]
  },
  {
   "source": [
    "### 7. Write a program to convert the number of days to ages"
   ],
   "cell_type": "markdown",
   "metadata": {}
  },
  {
   "cell_type": "code",
   "execution_count": 44,
   "metadata": {},
   "outputs": [
    {
     "output_type": "stream",
     "name": "stdout",
     "text": [
      "your age is : 2\n"
     ]
    }
   ],
   "source": [
    "days = int(input(\"Enter the number of days: \"))   # days = 900\n",
    "age = days//365\n",
    "print(f\"your age is : {age}\")"
   ]
  },
  {
   "source": [
    "### 8. Solve Trigonometry problem using math function write a program to solve us-ing math function"
   ],
   "cell_type": "markdown",
   "metadata": {}
  },
  {
   "cell_type": "code",
   "execution_count": 50,
   "metadata": {},
   "outputs": [
    {
     "output_type": "stream",
     "name": "stdout",
     "text": [
      "0.49999999999999994\n0.8660254037844387\n"
     ]
    }
   ],
   "source": [
    "import math\n",
    "deg = math.radians(30)\n",
    "print (math.sin(deg))\n",
    "print (math.cos(deg))\n",
    "\n"
   ]
  },
  {
   "source": [
    "###\t9. Create a calculator only on a code level by using if condition (Basic arithmetic calculation)"
   ],
   "cell_type": "markdown",
   "metadata": {}
  },
  {
   "cell_type": "code",
   "execution_count": 53,
   "metadata": {},
   "outputs": [
    {
     "output_type": "stream",
     "name": "stdout",
     "text": [
      "2\n"
     ]
    }
   ],
   "source": [
    "a = int(input(\"Enter first number: \"))\n",
    "b = int(input(\"Enter second number: \"))\n",
    "op = input(\"What operation would you like to perform(+,-,*,/)\")\n",
    "\n",
    "if(op == '+'):\n",
    "    print(a+b)\n",
    "elif(op == '-'):\n",
    "    print(a-b)\n",
    "elif(op == '*'):\n",
    "    print(a*b)\n",
    "elif(op == '/'):\n",
    "    print(a//b)\n",
    "else:\n",
    "    print(\"wrong input!!\")\n",
    "\n",
    "    # 6 - 4 = 2\n"
   ]
  },
  {
   "cell_type": "code",
   "execution_count": null,
   "metadata": {},
   "outputs": [],
   "source": []
  }
 ]
}