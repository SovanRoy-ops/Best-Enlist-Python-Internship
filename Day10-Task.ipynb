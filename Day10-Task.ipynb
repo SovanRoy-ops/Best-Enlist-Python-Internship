{
 "metadata": {
  "language_info": {
   "codemirror_mode": {
    "name": "ipython",
    "version": 3
   },
   "file_extension": ".py",
   "mimetype": "text/x-python",
   "name": "python",
   "nbconvert_exporter": "python",
   "pygments_lexer": "ipython3",
   "version": "3.7.6-final"
  },
  "orig_nbformat": 2,
  "kernelspec": {
   "name": "python3",
   "display_name": "Python 3"
  }
 },
 "nbformat": 4,
 "nbformat_minor": 2,
 "cells": [
  {
   "source": [
    "# EXCERCISE"
   ],
   "cell_type": "markdown",
   "metadata": {}
  },
  {
   "source": [
    "### 1. Write a Python program for all the cases which can check a string contains only a certain set of characters (in this case a-z, A-Z and 0-9)."
   ],
   "cell_type": "markdown",
   "metadata": {}
  },
  {
   "cell_type": "code",
   "execution_count": 4,
   "metadata": {},
   "outputs": [
    {
     "output_type": "stream",
     "name": "stdout",
     "text": [
      "YES! We have a match!\n"
     ]
    }
   ],
   "source": [
    "import re\n",
    "\n",
    "txt = \"The sentence tested here.\"\n",
    "x = re.search(\"[a-zA-Z0-9]\", txt)\n",
    "\n",
    "if x:\n",
    "  print(\"YES! We have a match!\")\n",
    "else:\n",
    "  print(\"No match\")"
   ]
  },
  {
   "source": [
    "### 2. Write a Python program that matches a word containing 'ab'."
   ],
   "cell_type": "markdown",
   "metadata": {}
  },
  {
   "cell_type": "code",
   "execution_count": 10,
   "metadata": {},
   "outputs": [
    {
     "output_type": "stream",
     "name": "stdout",
     "text": [
      "['absolute ']\nYes, there is a match!\n"
     ]
    }
   ],
   "source": [
    "import re\n",
    "\n",
    "text = \"The python absolute program\"\n",
    "\n",
    "x = re.findall(\"[ab].*\\s\", text)\n",
    "print(x)\n",
    "\n",
    "if (x):\n",
    "  print(\"Yes, there is a match!\")\n",
    "else:\n",
    "  print(\"No match\")"
   ]
  },
  {
   "source": [
    "### 3. Write a Python program to check for a number at the end of a word/sentence"
   ],
   "cell_type": "markdown",
   "metadata": {}
  },
  {
   "cell_type": "code",
   "execution_count": 9,
   "metadata": {},
   "outputs": [
    {
     "output_type": "stream",
     "name": "stdout",
     "text": [
      "Yes, there is a match!\n"
     ]
    }
   ],
   "source": [
    "import re\n",
    "\n",
    "text = \"The number is 123\"\n",
    "\n",
    "x = re.search(\"[0-9]$\", text)\n",
    "\n",
    "\n",
    "if (x):\n",
    "  print(\"Yes, there is a match!\")\n",
    "else:\n",
    "  print(\"No match\")"
   ]
  },
  {
   "source": [
    "### 4. Write a Python program to search the numbers (0-9) of length between 1 to 3 in a given string"
   ],
   "cell_type": "markdown",
   "metadata": {}
  },
  {
   "cell_type": "code",
   "execution_count": 5,
   "metadata": {},
   "outputs": [
    {
     "output_type": "stream",
     "name": "stdout",
     "text": [
      "['1', '12', '13', '345']\n"
     ]
    }
   ],
   "source": [
    "import re\n",
    "results = re.findall(\"[0-9]{1,3}\", \"Exercises number 1, 12, 13, and 345 are important\")\n",
    "print(results)"
   ]
  },
  {
   "source": [
    "### 5. Write a Python program to match a string that contains only uppercase letters"
   ],
   "cell_type": "markdown",
   "metadata": {}
  },
  {
   "cell_type": "code",
   "execution_count": 7,
   "metadata": {},
   "outputs": [
    {
     "output_type": "stream",
     "name": "stdout",
     "text": [
      "True\nFalse\n"
     ]
    }
   ],
   "source": [
    "import re\n",
    "\n",
    "text = \"AVC\"\n",
    "text2 = \"MAXsecond\"\n",
    "\n",
    "print(bool(re.search(\"^[A-Z]+$\", text)))\n",
    "\n",
    "print(bool(re.search(\"^[A-Z]+$\", text2)))\n"
   ]
  }
 ]
}